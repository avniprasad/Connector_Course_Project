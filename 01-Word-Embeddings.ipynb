{
 "cells": [
  {
   "cell_type": "code",
   "execution_count": 1,
   "metadata": {},
   "outputs": [
    {
     "name": "stderr",
     "output_type": "stream",
     "text": [
      "Using TensorFlow backend.\n"
     ]
    }
   ],
   "source": [
    "import matplotlib.pyplot as plt\n",
    "%matplotlib inline\n",
    "plt.style.use('ggplot')\n",
    "from datascience import *\n",
    "import numpy as np\n",
    "from scipy.spatial.distance import cosine\n",
    "import gensim\n",
    "import nltk\n",
    "from string import punctuation"
   ]
  },
  {
   "cell_type": "markdown",
   "metadata": {},
   "source": [
    "# Word Embedding\n",
    "\n",
    "This lesson is designed to explore features of word embeddings described by Ben Schmidt in his blog post <a href=\"http://bookworm.benschmidt.org/posts/2015-10-30-rejecting-the-gender-binary.html\">\"Rejecting the Gender Binary\"</a>.\n",
    "\n",
    "The primary corpus we use consists of the <a href=\"http://txtlab.org/?p=601\">150 English-language novels</a> made available by the .txtLab at McGill. We also look at a <a href=\"http://ryanheuser.org/word-vectors-1/\">Word2Vec model trained on the ECCO-TCP corpus</a> of 2,350 eighteenth-century literary texts made available by Ryan Heuser. (I have shortened the number of terms in the model by half in order to conserve memory.)\n",
    "\n",
    "For background on Word2Vec's mechanics, I suggest this <a href=\"https://www.tensorflow.org/versions/r0.8/tutorials/word2vec/index.html\">brief tutorial</a> by Google, especially the sections \"Motivation,\" \"Skip-Gram Model,\" and \"Visualizing.\"\n",
    "\n",
    "We'll read in Andrew Piper's corpus we used in our Topic Modeling notebook:"
   ]
  },
  {
   "cell_type": "code",
   "execution_count": 2,
   "metadata": {},
   "outputs": [],
   "source": [
    "metadata_tb = Table.read_table('../09-Topic-Modeling/data/txtlab_Novel150_English.csv')\n",
    "\n",
    "fiction_path = '../09-Topic-Modeling/data/txtlab_Novel150_English/'\n",
    "\n",
    "novel_list = []\n",
    "\n",
    "# Iterate through filenames in metadata table\n",
    "for filename in metadata_tb['filename']:\n",
    "    \n",
    "    # Read in novel text as single string, make lowercase\n",
    "    with open(fiction_path + filename, 'r') as file_in:\n",
    "        novel = file_in.read()\n",
    "    \n",
    "    # Add novel text as single string to master list\n",
    "    novel_list.append(novel)"
   ]
  },
  {
   "cell_type": "markdown",
   "metadata": {},
   "source": [
    "---\n",
    "\n",
    "# Pre-Processing\n",
    "\n",
    "Word2Vec learns about the relationships among words by observing them in context. We'll need to tokenize the words in our corpus while retaining sentence boundaries. Since novels were imported as single strings, we'll first use <i>sent_tokenize</i> to divide them into sentences, and second, we'll split each sentence into its own list of words.\n",
    "\n",
    "We'll use `nltk`'s sentence tokenizer:"
   ]
  },
  {
   "cell_type": "code",
   "execution_count": 3,
   "metadata": {},
   "outputs": [],
   "source": [
    "from nltk.tokenize import sent_tokenize"
   ]
  },
  {
   "cell_type": "markdown",
   "metadata": {},
   "source": [
    "Due to memory and time constraints we'll use our quick and dirty tokenizer:"
   ]
  },
  {
   "cell_type": "code",
   "execution_count": 4,
   "metadata": {},
   "outputs": [],
   "source": [
    "def fast_tokenize(text):\n",
    "    \n",
    "    # Iterate through text removing punctuation characters\n",
    "    no_punct = \"\".join([char for char in text if char not in punctuation])\n",
    "    \n",
    "    # Split text over whitespace into list of words\n",
    "    tokens = no_punct.split()\n",
    "    \n",
    "    return tokens"
   ]
  },
  {
   "cell_type": "markdown",
   "metadata": {},
   "source": [
    "First get the sentences:"
   ]
  },
  {
   "cell_type": "code",
   "execution_count": 5,
   "metadata": {},
   "outputs": [],
   "source": [
    "sentences = [sentence for novel in novel_list for sentence in sent_tokenize(novel)]"
   ]
  },
  {
   "cell_type": "markdown",
   "metadata": {},
   "source": [
    "Now the words:"
   ]
  },
  {
   "cell_type": "code",
   "execution_count": 6,
   "metadata": {},
   "outputs": [],
   "source": [
    "words_by_sentence = [fast_tokenize(sentence.lower()) for sentence in sentences]"
   ]
  },
  {
   "cell_type": "markdown",
   "metadata": {},
   "source": [
    "We'll double check that we don't have any empty sentences:"
   ]
  },
  {
   "cell_type": "code",
   "execution_count": 7,
   "metadata": {},
   "outputs": [],
   "source": [
    "words_by_sentence = [sentence for sentence in words_by_sentence if sentence != []]"
   ]
  },
  {
   "cell_type": "markdown",
   "metadata": {},
   "source": [
    "We should now have a `list` of `list`s with sentences and words:"
   ]
  },
  {
   "cell_type": "code",
   "execution_count": 8,
   "metadata": {},
   "outputs": [
    {
     "data": {
      "text/plain": [
       "[['author’s',\n",
       "  'introduction',\n",
       "  'my',\n",
       "  'dog',\n",
       "  'had',\n",
       "  'made',\n",
       "  'a',\n",
       "  'point',\n",
       "  'on',\n",
       "  'a',\n",
       "  'piece',\n",
       "  'of',\n",
       "  'fallowground',\n",
       "  'and',\n",
       "  'led',\n",
       "  'the',\n",
       "  'curate',\n",
       "  'and',\n",
       "  'me',\n",
       "  'two',\n",
       "  'or',\n",
       "  'three',\n",
       "  'hundred',\n",
       "  'yards',\n",
       "  'over',\n",
       "  'that',\n",
       "  'and',\n",
       "  'some',\n",
       "  'stubble',\n",
       "  'adjoining',\n",
       "  'in',\n",
       "  'a',\n",
       "  'breathless',\n",
       "  'state',\n",
       "  'of',\n",
       "  'expectation',\n",
       "  'on',\n",
       "  'a',\n",
       "  'burning',\n",
       "  'first',\n",
       "  'of',\n",
       "  'september'],\n",
       " ['it',\n",
       "  'was',\n",
       "  'a',\n",
       "  'false',\n",
       "  'point',\n",
       "  'and',\n",
       "  'our',\n",
       "  'labour',\n",
       "  'was',\n",
       "  'vain',\n",
       "  'yet',\n",
       "  'to',\n",
       "  'do',\n",
       "  'rover',\n",
       "  'justice',\n",
       "  'for',\n",
       "  'he’s',\n",
       "  'an',\n",
       "  'excellent',\n",
       "  'dog',\n",
       "  'though',\n",
       "  'i',\n",
       "  'have',\n",
       "  'lost',\n",
       "  'his',\n",
       "  'pedigree',\n",
       "  'the',\n",
       "  'fault',\n",
       "  'was',\n",
       "  'none',\n",
       "  'of',\n",
       "  'his',\n",
       "  'the',\n",
       "  'birds',\n",
       "  'were',\n",
       "  'gone',\n",
       "  'the',\n",
       "  'curate',\n",
       "  'showed',\n",
       "  'me',\n",
       "  'the',\n",
       "  'spot',\n",
       "  'where',\n",
       "  'they',\n",
       "  'had',\n",
       "  'lain',\n",
       "  'basking',\n",
       "  'at',\n",
       "  'the',\n",
       "  'root',\n",
       "  'of',\n",
       "  'an',\n",
       "  'old',\n",
       "  'hedge']]"
      ]
     },
     "execution_count": 8,
     "metadata": {},
     "output_type": "execute_result"
    }
   ],
   "source": [
    "words_by_sentence[:2]"
   ]
  },
  {
   "cell_type": "markdown",
   "metadata": {
    "collapsed": true
   },
   "source": [
    "---\n",
    "\n",
    "# Word2Vec\n",
    "\n",
    "### Word Embeddings\n",
    "Word2Vec is the most prominent word embedding algorithm. Word embedding generally attempts to identify semantic relationships between words by observing them in context.\n",
    "\n",
    "Imagine that each word in a novel has its meaning determined by the ones that surround it in a limited window. For example, in Moby Dick's first sentence, “me” is paired on either side by “Call” and “Ishmael.” After observing the windows around every word in the novel (or many novels), the computer will notice a pattern in which “me” falls between similar pairs of words to “her,” “him,” or “them.” Of course, the computer had gone through a similar process over the words “Call” and “Ishmael,” for which “me” is reciprocally part of their contexts.  This chaining of signifiers to one another mirrors some of humanists' most sophisticated interpretative frameworks of language.\n",
    "\n",
    "The two main flavors of Word2Vec are CBOW (Continuous Bag of Words) and Skip-Gram, which can be distinguished partly by their input and output during training. Skip-Gram takes a word of interest as its input (e.g. \"me\") and tries to learn how to predict its context words (\"Call\",\"Ishmael\"). CBOW does the opposite, taking the context words (\"Call\",\"Ishmael\") as a single input and tries to predict the word of interest (\"me\").\n",
    "\n",
    "In general, CBOW is is faster and does well with frequent words, while Skip-Gram potentially represents rare words better.\n",
    "\n",
    "### Word2Vec Features\n",
    "<ul>\n",
    "<li>`size`: Number of dimensions for word embedding model</li>\n",
    "<li>`window`: Number of context words to observe in each direction</li>\n",
    "<li>`min_count`: Minimum frequency for words included in model</li>\n",
    "<li>`sg` (Skip-Gram): '0' indicates CBOW model; '1' indicates Skip-Gram</li>\n",
    "<li>`alpha`: Learning rate (initial); prevents model from over-correcting, enables finer tuning</li>\n",
    "<li>`iterations`: Number of passes through dataset</li>\n",
    "<li>`batch_words`: Number of words to sample from data during each pass</li>\n",
    "</ul>\n",
    "\n",
    "Note: cell below uses default value for each argument"
   ]
  },
  {
   "cell_type": "markdown",
   "metadata": {},
   "source": [
    "## Training\n",
    "\n",
    "We've gotten accustomed to training powerful models in Python with one line of code, why stop now?"
   ]
  },
  {
   "cell_type": "code",
   "execution_count": 9,
   "metadata": {},
   "outputs": [],
   "source": [
    "model = gensim.models.Word2Vec(words_by_sentence, size=100, window=5, \\\n",
    "                               min_count=5, sg=0, alpha=0.025, iter=5, batch_words=10000)"
   ]
  },
  {
   "cell_type": "markdown",
   "metadata": {},
   "source": [
    "## Embeddings\n",
    "\n",
    "We can return the actual high-dimensional vector by simply indexing the model with the word as the key:"
   ]
  },
  {
   "cell_type": "code",
   "execution_count": 10,
   "metadata": {},
   "outputs": [
    {
     "data": {
      "text/plain": [
       "array([ 1.56141448,  0.39710507,  2.00196671, -1.86853027, -0.03336647,\n",
       "        0.31682897,  0.7906335 , -0.42577505, -0.73668295, -2.44149876,\n",
       "       -0.74093324, -1.43063998, -0.26305717, -2.10549712,  0.38000241,\n",
       "        0.51209736, -0.62525183, -1.19116616,  0.60777026, -0.69152015,\n",
       "        1.2819531 ,  4.6268692 ,  0.36849728, -0.23689996, -0.24962258,\n",
       "        0.98972273, -0.07875841,  0.73910224,  1.11489654, -0.12298178,\n",
       "       -0.7582823 , -1.02234232,  1.51993692, -0.16336937,  0.29630354,\n",
       "       -1.24363458, -0.67683852, -2.1679132 ,  1.52368343, -0.5281567 ,\n",
       "        0.3542943 , -0.61850637,  0.55254275,  0.24854234, -0.26435632,\n",
       "        0.20329426,  0.05134385,  0.3695952 , -0.09510253,  0.00949498,\n",
       "       -0.38312355, -1.10320187, -0.33121866, -0.68175089,  2.11908269,\n",
       "       -2.53309417,  0.31568143,  0.32590351,  0.32967794, -0.25891501,\n",
       "       -1.478109  , -1.69373322,  1.41838634,  0.50867015, -0.91392964,\n",
       "       -0.21383029,  1.34672213,  0.22439104,  0.64196199,  0.12173464,\n",
       "        0.38296142,  0.8051616 ,  1.05966723, -2.18483829, -0.083265  ,\n",
       "       -0.37032947, -0.3784385 , -0.57358074,  1.46311569, -0.33754551,\n",
       "       -1.78594911, -0.58403093, -0.85139781, -0.48663101, -3.40632725,\n",
       "       -0.75230426,  0.18709005, -0.57910126, -0.05557951, -0.20698039,\n",
       "        2.09010005, -2.21728754, -0.14348708, -0.68254352, -0.33151525,\n",
       "        0.10386955,  0.05635565, -0.41148096,  1.10267603,  1.06126654], dtype=float32)"
      ]
     },
     "execution_count": 10,
     "metadata": {},
     "output_type": "execute_result"
    }
   ],
   "source": [
    "model['whale']"
   ]
  },
  {
   "cell_type": "markdown",
   "metadata": {},
   "source": [
    "`gensim` comes with some handy methods to analyze word relationships. `similarity` will give us a number from 0-1 based on how similar two words are. If this sounds like cosine similarity for words, you'd be right! It just takes the cosine similarity of these high dimensional vectors:"
   ]
  },
  {
   "cell_type": "code",
   "execution_count": 11,
   "metadata": {},
   "outputs": [
    {
     "data": {
      "text/plain": [
       "0.69129494994403029"
      ]
     },
     "execution_count": 11,
     "metadata": {},
     "output_type": "execute_result"
    }
   ],
   "source": [
    "model.similarity('sense','sensibility')"
   ]
  },
  {
   "cell_type": "markdown",
   "metadata": {},
   "source": [
    "We can also find cosine distance between two clusters of word vectors. Each cluster is measured as the mean of its words:"
   ]
  },
  {
   "cell_type": "code",
   "execution_count": 12,
   "metadata": {},
   "outputs": [
    {
     "data": {
      "text/plain": [
       "0.14381126212951062"
      ]
     },
     "execution_count": 12,
     "metadata": {},
     "output_type": "execute_result"
    }
   ],
   "source": [
    "model.n_similarity(['sense','sensibility'],['whale','harpoon'])"
   ]
  },
  {
   "cell_type": "markdown",
   "metadata": {},
   "source": [
    "We can find words that don't belong with `doesnt_match`. It finds the mean vector of the words in the `list`, and identifies the furthest away:"
   ]
  },
  {
   "cell_type": "code",
   "execution_count": 13,
   "metadata": {},
   "outputs": [
    {
     "data": {
      "text/plain": [
       "'harpoon'"
      ]
     },
     "execution_count": 13,
     "metadata": {},
     "output_type": "execute_result"
    }
   ],
   "source": [
    "model.doesnt_match(['pride','prejudice', 'harpoon'])"
   ]
  },
  {
   "cell_type": "markdown",
   "metadata": {},
   "source": [
    "The most famous implementation of this vector math is semantics. What happens if we take:\n",
    "\n",
    "$$King - Man + Woman = $$"
   ]
  },
  {
   "cell_type": "code",
   "execution_count": 14,
   "metadata": {},
   "outputs": [
    {
     "data": {
      "text/plain": [
       "[('princess', 0.7610581517219543),\n",
       " ('queen', 0.7006853222846985),\n",
       " ('earl', 0.6857635378837585),\n",
       " ('duke', 0.6750245094299316),\n",
       " ('saint', 0.6574066281318665),\n",
       " ('priest', 0.6558684706687927),\n",
       " ('emperor', 0.6475542783737183),\n",
       " ('conqueror', 0.644863486289978),\n",
       " ('abbot', 0.6425938606262207),\n",
       " ('solomon', 0.6366925239562988)]"
      ]
     },
     "execution_count": 14,
     "metadata": {},
     "output_type": "execute_result"
    }
   ],
   "source": [
    "model.most_similar(positive=['woman', 'king'], negative=['man'])"
   ]
  },
  {
   "cell_type": "markdown",
   "metadata": {},
   "source": [
    "Schmidt looked at words associated with male and female pronouns to investigate gender. Let's try take all the female pronouns and subtracting the male pronouns:"
   ]
  },
  {
   "cell_type": "code",
   "execution_count": 15,
   "metadata": {},
   "outputs": [
    {
     "data": {
      "text/plain": [
       "[('lovely', 0.4871112108230591),\n",
       " ('sweet', 0.48475176095962524),\n",
       " ('maiden', 0.43955904245376587),\n",
       " ('beautiful', 0.438687264919281),\n",
       " ('miss', 0.43593114614486694),\n",
       " ('lucy', 0.4264506697654724),\n",
       " ('girlish', 0.4239233434200287),\n",
       " ('lily', 0.41846993565559387),\n",
       " ('jane', 0.4177318811416626),\n",
       " ('beauty', 0.4171692132949829)]"
      ]
     },
     "execution_count": 15,
     "metadata": {},
     "output_type": "execute_result"
    }
   ],
   "source": [
    "model.most_similar(positive=['she','her','hers','herself'], negative=['he','him','his','himself'])\n",
    "# she + her + hers + herself - he - him - his - himself"
   ]
  },
  {
   "cell_type": "markdown",
   "metadata": {},
   "source": [
    "And the opposite:"
   ]
  },
  {
   "cell_type": "code",
   "execution_count": 16,
   "metadata": {},
   "outputs": [
    {
     "data": {
      "text/plain": [
       "[('horse', 0.47328734397888184),\n",
       " ('manfully', 0.45875412225723267),\n",
       " ('realestate', 0.4361700415611267),\n",
       " ('clerk', 0.432068407535553),\n",
       " ('railroad', 0.4294191896915436),\n",
       " ('captain', 0.422232985496521),\n",
       " ('gun', 0.41202211380004883),\n",
       " ('strobik', 0.40869373083114624),\n",
       " ('british', 0.40565383434295654),\n",
       " ('mate', 0.4022068977355957)]"
      ]
     },
     "execution_count": 16,
     "metadata": {},
     "output_type": "execute_result"
    }
   ],
   "source": [
    "model.most_similar(positive=['he','him','his','himself'], negative=['she','her','hers','herself'])\n",
    "# -she - her - hers - herself + he + him + his + himself"
   ]
  },
  {
   "cell_type": "markdown",
   "metadata": {},
   "source": [
    "How about together (*genderless* in Schmidt's sense)?"
   ]
  },
  {
   "cell_type": "code",
   "execution_count": 17,
   "metadata": {
    "scrolled": true
   },
   "outputs": [
    {
     "data": {
      "text/plain": [
       "[('camilla', 0.6048674583435059),\n",
       " ('edgar', 0.6046901941299438),\n",
       " ('eugenia', 0.6025391817092896),\n",
       " ('antonia', 0.6022007465362549),\n",
       " ('eleanor', 0.5874742269515991),\n",
       " ('them', 0.5792040824890137),\n",
       " ('aileen', 0.5739057064056396),\n",
       " ('margaret', 0.5693357586860657),\n",
       " ('pericles', 0.5653319358825684),\n",
       " ('itself', 0.5630851984024048),\n",
       " ('carrie', 0.5597879886627197),\n",
       " ('cora', 0.5580145120620728),\n",
       " ('algernon', 0.5573545694351196),\n",
       " ('munro', 0.5570512413978577),\n",
       " ('adeline', 0.5530831217765808),\n",
       " ('it', 0.5516500473022461),\n",
       " ('leonora', 0.5514825582504272),\n",
       " ('indiana', 0.5436380505561829),\n",
       " ('rhoda', 0.5417260527610779),\n",
       " ('savonarola', 0.5371558666229248),\n",
       " ('erica', 0.5322597026824951),\n",
       " ('illtemper', 0.5319750308990479),\n",
       " ('constraint', 0.530609130859375),\n",
       " ('marianne', 0.527169942855835),\n",
       " ('elinor', 0.5260205268859863),\n",
       " ('edward', 0.519523561000824),\n",
       " ('aspasia', 0.5168303847312927),\n",
       " ('me', 0.5156399607658386),\n",
       " ('valancourt', 0.5149986147880554),\n",
       " ('rebecca', 0.5122892260551453),\n",
       " ('amy', 0.5113264918327332),\n",
       " ('catherine', 0.5101461410522461),\n",
       " ('kim', 0.5099761486053467),\n",
       " ('agnes', 0.5079049468040466),\n",
       " ('hurstwood', 0.5050363540649414),\n",
       " ('baldassarre', 0.5044765472412109),\n",
       " ('clermont', 0.5012874603271484),\n",
       " ('hippolitus', 0.49830326437950134),\n",
       " ('bathsheba', 0.4978727102279663),\n",
       " ('agatha', 0.49777841567993164),\n",
       " ('myself', 0.497336745262146),\n",
       " ('lily', 0.4971352219581604),\n",
       " ('cecilia', 0.49426716566085815),\n",
       " ('magua', 0.4918263554573059),\n",
       " ('emily', 0.4892941117286682),\n",
       " ('isabel', 0.48767274618148804),\n",
       " ('anthony', 0.4853493571281433),\n",
       " ('maggie', 0.4831349849700928),\n",
       " ('julia', 0.4830836355686188),\n",
       " ('jo', 0.48303237557411194)]"
      ]
     },
     "execution_count": 17,
     "metadata": {},
     "output_type": "execute_result"
    }
   ],
   "source": [
    "model.most_similar(positive=['she','her','hers','herself','he','him','his','himself'], topn=50)"
   ]
  },
  {
   "cell_type": "markdown",
   "metadata": {},
   "source": [
    "---\n",
    "\n",
    "# Homework\n",
    "\n",
    "Use the `most_similar` method to find the tokens nearest to 'car' in our model. Do the same for 'motorcar'."
   ]
  },
  {
   "cell_type": "code",
   "execution_count": 46,
   "metadata": {},
   "outputs": [
    {
     "data": {
      "text/plain": [
       "[('coach', 0.8646873831748962),\n",
       " ('wagon', 0.8266144394874573),\n",
       " ('cab', 0.8240267038345337),\n",
       " ('cart', 0.8084284067153931),\n",
       " ('hansom', 0.8009166121482849),\n",
       " ('buggy', 0.7997418642044067),\n",
       " ('vehicle', 0.7927783727645874),\n",
       " ('carriage', 0.7884805202484131),\n",
       " ('chaise', 0.787371814250946),\n",
       " ('boat', 0.7861958146095276)]"
      ]
     },
     "execution_count": 46,
     "metadata": {},
     "output_type": "execute_result"
    }
   ],
   "source": [
    "model.most_similar(positive = ['car'])"
   ]
  },
  {
   "cell_type": "code",
   "execution_count": 47,
   "metadata": {},
   "outputs": [
    {
     "data": {
      "text/plain": [
       "[('silhouette', 0.7059935331344604),\n",
       " ('pyre', 0.7007372379302979),\n",
       " ('diameter', 0.6999621987342834),\n",
       " ('batch', 0.6995612382888794),\n",
       " ('tassel', 0.6964539289474487),\n",
       " ('dab', 0.6935203075408936),\n",
       " ('woodpecker', 0.6923903822898865),\n",
       " ('duster', 0.6921980381011963),\n",
       " ('trough', 0.688569188117981),\n",
       " ('punchbowl', 0.6879132390022278)]"
      ]
     },
     "execution_count": 47,
     "metadata": {},
     "output_type": "execute_result"
    }
   ],
   "source": [
    "model.most_similar(positive = ['motorcar'])"
   ]
  },
  {
   "cell_type": "markdown",
   "metadata": {},
   "source": [
    "What characterizes each word in our corpus? Does this make sense?"
   ]
  },
  {
   "cell_type": "markdown",
   "metadata": {},
   "source": [
    "The model for 'car' made a lot of sense. The model was able to determine what words could be used instead of 'car' by identifying semantic relationships between words by observing them in context. All the given responses were vehicles. The 'motorcar' model did not find synonyms/replacement words for 'motorcar' but did give words that are associated with 'motorcar' "
   ]
  },
  {
   "cell_type": "markdown",
   "metadata": {
    "collapsed": true
   },
   "source": [
    "Vector addition and subtraction can be thought of in terms of analogy. From the example above: 'man' is to 'king' as 'woman' is to '???'. Use the `most_similar` method to find: 'paris' is to 'france' as 'london' is to '???'"
   ]
  },
  {
   "cell_type": "code",
   "execution_count": 61,
   "metadata": {},
   "outputs": [
    {
     "data": {
      "text/plain": [
       "[('england', 0.7839274406433105),\n",
       " ('spain', 0.7705214023590088),\n",
       " ('italy', 0.7522772550582886),\n",
       " ('ireland', 0.7345432043075562),\n",
       " ('america', 0.7328051924705505),\n",
       " ('germany', 0.7247172594070435),\n",
       " ('india', 0.706875741481781),\n",
       " ('scotland', 0.6940526962280273),\n",
       " ('europe', 0.6719361543655396),\n",
       " ('city', 0.6563816666603088)]"
      ]
     },
     "execution_count": 61,
     "metadata": {},
     "output_type": "execute_result"
    }
   ],
   "source": [
    "model.most_similar(positive = ['france','london'], negative = ['paris']) "
   ]
  },
  {
   "cell_type": "markdown",
   "metadata": {
    "collapsed": true
   },
   "source": [
    "What has our model learned about nation-states?"
   ]
  },
  {
   "cell_type": "markdown",
   "metadata": {},
   "source": [
    "Our model is able to quite accurately determine places. It seems like our model can other determine the country in which a city is associated with most.   "
   ]
  },
  {
   "cell_type": "markdown",
   "metadata": {
    "collapsed": true
   },
   "source": [
    "Perform the canonic Word2Vec addition again but leave out a term. Try 'king' - 'man', 'woman' - 'man', 'woman' + 'king'."
   ]
  },
  {
   "cell_type": "code",
   "execution_count": 62,
   "metadata": {},
   "outputs": [
    {
     "data": {
      "text/plain": [
       "[('sheba', 0.5483007431030273),\n",
       " ('rackrent', 0.503492534160614),\n",
       " ('kings', 0.49727553129196167),\n",
       " ('lords', 0.48043233156204224),\n",
       " ('casimir', 0.4742187261581421),\n",
       " ('wellington', 0.4706372618675232),\n",
       " ('macadams', 0.4699578881263733),\n",
       " ('strelsau', 0.4698904752731323),\n",
       " ('ruritania', 0.46506452560424805),\n",
       " ('abraham', 0.4574323892593384)]"
      ]
     },
     "execution_count": 62,
     "metadata": {},
     "output_type": "execute_result"
    }
   ],
   "source": [
    "model.most_similar(positive = ['king'], negative = ['man']) "
   ]
  },
  {
   "cell_type": "code",
   "execution_count": 63,
   "metadata": {},
   "outputs": [
    {
     "data": {
      "text/plain": [
       "[('jane', 0.5097378492355347),\n",
       " ('maid', 0.5040609240531921),\n",
       " ('maiden', 0.5004568099975586),\n",
       " ('bloofer', 0.4795739948749542),\n",
       " ('baldock', 0.4746917486190796),\n",
       " ('motherless', 0.47014927864074707),\n",
       " ('lovely', 0.4660959839820862),\n",
       " ('ysolinde', 0.4553799629211426),\n",
       " ('madeleine', 0.454885870218277),\n",
       " ('susan', 0.4528707265853882)]"
      ]
     },
     "execution_count": 63,
     "metadata": {},
     "output_type": "execute_result"
    }
   ],
   "source": [
    "model.most_similar(positive = ['woman'], negative = ['man']) "
   ]
  },
  {
   "cell_type": "code",
   "execution_count": 64,
   "metadata": {},
   "outputs": [
    {
     "data": {
      "text/plain": [
       "[('priest', 0.8209807872772217),\n",
       " ('jew', 0.792693018913269),\n",
       " ('man', 0.7634384632110596),\n",
       " ('clergyman', 0.7485003471374512),\n",
       " ('minister', 0.7462154626846313),\n",
       " ('chevalier', 0.7277126908302307),\n",
       " ('nobleman', 0.7264621257781982),\n",
       " ('philosopher', 0.7205966711044312),\n",
       " ('soldier', 0.7174219489097595),\n",
       " ('frenchman', 0.7130738496780396)]"
      ]
     },
     "execution_count": 64,
     "metadata": {},
     "output_type": "execute_result"
    }
   ],
   "source": [
    "model.most_similar(positive = ['woman', 'king']) "
   ]
  },
  {
   "cell_type": "markdown",
   "metadata": {
    "collapsed": true
   },
   "source": [
    "What do these indicate semantically?"
   ]
  },
  {
   "cell_type": "markdown",
   "metadata": {},
   "source": [
    "This tells us that language is not just black and white, there is a lot of gray area in terms of what words are associated with what words. If you are searching for a particular result, it is best to give the model the most information you can provide."
   ]
  },
  {
   "cell_type": "markdown",
   "metadata": {},
   "source": [
    "---\n",
    "\n",
    "## Visualization\n",
    "\n",
    "We can use multi-dimensional scaling to visualize this space just like we did with the documents before. But there are a lot of words here, so let's limit it to 50 words from our female gendered subset:"
   ]
  },
  {
   "cell_type": "code",
   "execution_count": 18,
   "metadata": {},
   "outputs": [],
   "source": [
    "her_tokens = [token for token,weight in model.most_similar(positive=['she','her','hers','herself'], \\\n",
    "                                                       negative=['he','him','his','himself'], topn=50)]"
   ]
  },
  {
   "cell_type": "markdown",
   "metadata": {},
   "source": [
    "We need to get the vector from each word, just like above, and add that to a list:"
   ]
  },
  {
   "cell_type": "code",
   "execution_count": 19,
   "metadata": {},
   "outputs": [],
   "source": [
    "vectors = [model[word] for word in her_tokens]    "
   ]
  },
  {
   "cell_type": "markdown",
   "metadata": {},
   "source": [
    "We can then calculate pairwise the cosine distance:"
   ]
  },
  {
   "cell_type": "code",
   "execution_count": 20,
   "metadata": {},
   "outputs": [],
   "source": [
    "from sklearn.metrics import pairwise\n",
    "dist_matrix = pairwise.pairwise_distances(vectors, metric='cosine')"
   ]
  },
  {
   "cell_type": "markdown",
   "metadata": {},
   "source": [
    "We'll use `MDS` to reduce the dimensions to two:"
   ]
  },
  {
   "cell_type": "code",
   "execution_count": 21,
   "metadata": {},
   "outputs": [],
   "source": [
    "from sklearn.manifold import MDS\n",
    "mds = MDS(n_components = 2, dissimilarity='precomputed')\n",
    "embeddings = mds.fit_transform(dist_matrix)"
   ]
  },
  {
   "cell_type": "markdown",
   "metadata": {},
   "source": [
    "Some fancy `matplotlib` code..."
   ]
  },
  {
   "cell_type": "code",
   "execution_count": 22,
   "metadata": {},
   "outputs": [
    {
     "data": {
      "image/png": "[encoded data removed]",
      "text/plain": [
       "<matplotlib.figure.Figure at 0x7f8a5603d080>"
      ]
     },
     "metadata": {},
     "output_type": "display_data"
    }
   ],
   "source": [
    "_, ax = plt.subplots(figsize=(10,10))\n",
    "ax.scatter(embeddings[:,0], embeddings[:,1], alpha=0)\n",
    "for i in range(len(vectors)):\n",
    "    ax.annotate(her_tokens[i], ((embeddings[i,0], embeddings[i,1])))"
   ]
  },
  {
   "cell_type": "markdown",
   "metadata": {
    "collapsed": true
   },
   "source": [
    "What kinds of semantic relationships exist in the diagram above? Are there any words that seem out of place? How do you think they go there?"
   ]
  },
  {
   "cell_type": "markdown",
   "metadata": {},
   "source": [
    "Words like 'harden' seem out of place in accordness to it's nearest neighbors, but it makes sense that it is opposite to 'tender' and 'fragile'."
   ]
  },
  {
   "cell_type": "markdown",
   "metadata": {},
   "source": [
    "---\n",
    "\n",
    "# Saving/Loading Models\n",
    "\n",
    "We can save the model as a `.txt` file with the `save_word2vec_format` method:"
   ]
  },
  {
   "cell_type": "code",
   "execution_count": 23,
   "metadata": {},
   "outputs": [],
   "source": [
    "model.wv.save_word2vec_format('word2vec.txtalb_Novel150_English.txt')"
   ]
  },
  {
   "cell_type": "markdown",
   "metadata": {},
   "source": [
    "To load up a model, we just ask `gensim`. Here's a model trained on Eighteenth Century Collections Online corpus (~2500 texts) made available by Ryan Heuser: http://ryanheuser.org/word-vectors-1/"
   ]
  },
  {
   "cell_type": "code",
   "execution_count": 24,
   "metadata": {},
   "outputs": [],
   "source": [
    "ecco_model = gensim.models.KeyedVectors.load_word2vec_format('data/word2vec.ECCO-TCP.txt')"
   ]
  },
  {
   "cell_type": "code",
   "execution_count": 25,
   "metadata": {},
   "outputs": [
    {
     "data": {
      "text/plain": [
       "[('queen', 0.7854657173156738),\n",
       " ('emperor', 0.7523162364959717),\n",
       " ('prince', 0.7436755895614624),\n",
       " ('princess', 0.713316798210144),\n",
       " ('conqueror', 0.7111818194389343),\n",
       " ('regent', 0.7088087797164917),\n",
       " ('empress', 0.6977599263191223),\n",
       " ('sultan', 0.6729022264480591),\n",
       " ('confessor', 0.6569845676422119),\n",
       " ('duke', 0.6366889476776123)]"
      ]
     },
     "execution_count": 25,
     "metadata": {},
     "output_type": "execute_result"
    }
   ],
   "source": [
    "ecco_model.most_similar(positive=['woman', 'king'], negative=['man'])"
   ]
  },
  {
   "cell_type": "code",
   "execution_count": 26,
   "metadata": {},
   "outputs": [
    {
     "data": {
      "text/plain": [
       "[(\"harriet's\", 0.5708541870117188),\n",
       " ('softness', 0.5513930320739746),\n",
       " ('maiden', 0.5411286354064941),\n",
       " (\"chloe's\", 0.5403314828872681),\n",
       " ('lovely', 0.5320479869842529),\n",
       " ('coy', 0.5259038209915161),\n",
       " ('bewitching', 0.5255858898162842),\n",
       " ('soft', 0.5217857956886292),\n",
       " ('blushing', 0.5112706422805786),\n",
       " ('virgin', 0.5070083141326904)]"
      ]
     },
     "execution_count": 26,
     "metadata": {},
     "output_type": "execute_result"
    }
   ],
   "source": [
    "ecco_model.most_similar(positive=['she','her','hers','herself'], negative=['he','him','his','himself'])"
   ]
  },
  {
   "cell_type": "markdown",
   "metadata": {},
   "source": [
    "How does this differ from our novels model?"
   ]
  },
  {
   "cell_type": "code",
   "execution_count": null,
   "metadata": {},
   "outputs": [],
   "source": []
  },
  {
   "cell_type": "markdown",
   "metadata": {
    "collapsed": true
   },
   "source": [
    "---\n",
    "\n",
    "# Homework\n",
    "\n",
    "Heuser's blog post explores an analogy in eighteenth-century thought that Riches are to Virtue what Learning is to Genius. How true is this in the ECCO-trained Word2Vec model? Is it true in the one we trained?\n",
    "\n",
    "How might we compare word2vec models more generally?"
   ]
  },
  {
   "cell_type": "markdown",
   "metadata": {},
   "source": [
    "The ECCO-trained Word2Vec model is fairly accurate. It seems clear there is a evolution in words that are used now than 18th century literature. We could compare word2vec by looking at the association numbers and comparing similar inputs. "
   ]
  },
  {
   "cell_type": "markdown",
   "metadata": {},
   "source": [
    "---\n",
    "\n",
    "# Alternative features for a classification model\n",
    "\n",
    "This is really cool but what implications does this have for our model of language? Well, word embeddings are simply more precise features of what we've been trying to get at already. That means we can use them in the machine learning models we've been building.\n",
    "\n",
    "Recall our DTM bag of words classifier:"
   ]
  },
  {
   "cell_type": "code",
   "execution_count": 27,
   "metadata": {},
   "outputs": [
    {
     "name": "stdout",
     "output_type": "stream",
     "text": [
      "[nltk_data] Downloading package movie_reviews to /srv/app/nltk_data...\n",
      "[nltk_data]   Unzipping corpora/movie_reviews.zip.\n"
     ]
    },
    {
     "data": {
      "text/plain": [
       "True"
      ]
     },
     "execution_count": 27,
     "metadata": {},
     "output_type": "execute_result"
    }
   ],
   "source": [
    "import nltk\n",
    "nltk.download(\"movie_reviews\")"
   ]
  },
  {
   "cell_type": "code",
   "execution_count": 28,
   "metadata": {},
   "outputs": [
    {
     "data": {
      "text/plain": [
       "0.87250000000000005"
      ]
     },
     "execution_count": 28,
     "metadata": {},
     "output_type": "execute_result"
    }
   ],
   "source": [
    "from nltk.corpus import movie_reviews\n",
    "from sklearn.pipeline import Pipeline\n",
    "from sklearn.feature_extraction.text import TfidfVectorizer, CountVectorizer, TfidfTransformer\n",
    "from sklearn.linear_model import LogisticRegression\n",
    "from sklearn.model_selection import cross_val_score, train_test_split\n",
    "from sklearn.utils import shuffle\n",
    "\n",
    "reviews = [movie_reviews.raw(fileid) for fileid in movie_reviews.fileids()]\n",
    "judgements = [movie_reviews.categories(fileid)[0] for fileid in movie_reviews.fileids()]\n",
    "\n",
    "np.random.seed(0)\n",
    "\n",
    "X, y = shuffle(reviews, judgements, random_state=0)\n",
    "X_train, X_test, y_train, y_test = train_test_split(X, y, test_size=0.2, random_state=50)\n",
    "\n",
    "# get tfidf values\n",
    "tfidf = TfidfVectorizer()\n",
    "tfidf.fit(X)\n",
    "X_train_transformed = tfidf.transform(X_train)\n",
    "X_test_transformed = tfidf.transform(X_test)\n",
    "\n",
    "# build and test logit\n",
    "logit_class = LogisticRegression(penalty='l2', C=1000)\n",
    "logit_model = logit_class.fit(X_train_transformed, y_train)\n",
    "logit_model.score(X_test_transformed, y_test)"
   ]
  },
  {
   "cell_type": "code",
   "execution_count": 29,
   "metadata": {},
   "outputs": [
    {
     "data": {
      "text/plain": [
       "scipy.sparse.csr.csr_matrix"
      ]
     },
     "execution_count": 29,
     "metadata": {},
     "output_type": "execute_result"
    }
   ],
   "source": [
    "type(X_train_transformed)"
   ]
  },
  {
   "cell_type": "markdown",
   "metadata": {},
   "source": [
    "---\n",
    "\n",
    "So how can we use word embeddings as features? Believe it or not, one of the most effective ways is to simply average each dimension of our embedding across all the words for a given document. Recall our w2v model for novels was trained for 100 dimensions. Creating the features for a specific document would entail first extracting the 100 dimensions for each word, then average each dimension across all words:"
   ]
  },
  {
   "cell_type": "code",
   "execution_count": 30,
   "metadata": {},
   "outputs": [
    {
     "data": {
      "text/plain": [
       "array([ 0.46517399, -0.15600671,  0.54956788,  0.03606311,  0.09085   ,\n",
       "        0.43042183, -0.4063881 ,  0.5436523 ,  0.42908883, -0.310334  ,\n",
       "       -0.40620369,  0.33134517,  0.84526217, -0.17654875,  0.02374866,\n",
       "        0.02440828,  0.37055656, -0.27669692, -0.17111841, -0.16613814,\n",
       "        0.70903838,  0.70982999, -0.32661185, -0.20043817,  0.17367579,\n",
       "        0.13885605,  0.04364024,  0.01739378,  0.44414541, -0.31780836,\n",
       "       -0.21980722, -0.67126471, -0.23644096,  0.18247293, -0.16916884,\n",
       "       -0.38716879, -0.14277844, -0.67835629,  0.14316073,  0.08648113,\n",
       "       -0.03288972, -0.06035542,  0.70469165, -0.49123907, -0.15872924,\n",
       "       -0.09582578, -0.11999385, -0.31434184,  0.21402849,  0.61763018,\n",
       "        0.01671287,  0.03143181, -0.87592787,  0.06541283, -0.30275947,\n",
       "       -0.58888805, -0.45224485,  0.08929722,  0.17322896, -0.73070896,\n",
       "        0.26588508, -0.13620956, -0.20074709, -0.20093717,  0.18208012,\n",
       "       -0.14898668, -0.31447586,  0.12601779, -0.16843922, -0.38949686,\n",
       "        0.40660682,  0.50750327, -0.07547805, -0.03065036, -0.20438142,\n",
       "        0.17638211, -0.121364  , -0.20138903, -0.56394655,  0.4658621 ,\n",
       "        0.34806043, -0.55525398,  0.01153847, -0.11674525, -0.85151637,\n",
       "        0.04462726, -0.08121577, -0.24474069,  0.13876873, -0.33266813,\n",
       "        0.35200033, -0.28199577,  0.34089881,  0.21365747,  0.15424135,\n",
       "       -0.00363678,  0.07321677,  0.15238574, -0.23880811, -0.06803449], dtype=float32)"
      ]
     },
     "execution_count": 30,
     "metadata": {},
     "output_type": "execute_result"
    }
   ],
   "source": [
    "np.mean([model[w] for w in fast_tokenize(X[0]) if w in model], axis=0)"
   ]
  },
  {
   "cell_type": "markdown",
   "metadata": {},
   "source": [
    "This gives us a set `X` array with 100 features. We can write a function to do this for us for any given string:"
   ]
  },
  {
   "cell_type": "code",
   "execution_count": 31,
   "metadata": {},
   "outputs": [],
   "source": [
    "def w2v_featurize(document, model):\n",
    "    return np.mean([model[w] for w in fast_tokenize(document) if w in model], axis=0)"
   ]
  },
  {
   "cell_type": "markdown",
   "metadata": {},
   "source": [
    "We can then featurize all of our documents:"
   ]
  },
  {
   "cell_type": "code",
   "execution_count": 32,
   "metadata": {},
   "outputs": [],
   "source": [
    "X_train_w2v = [w2v_featurize(d, model) for d in X_train]\n",
    "X_test_w2v = [w2v_featurize(d, model) for d in X_test]"
   ]
  },
  {
   "cell_type": "code",
   "execution_count": 33,
   "metadata": {},
   "outputs": [
    {
     "data": {
      "text/plain": [
       "array([ 0.07328062, -0.17370938,  0.54212588,  0.03975043,  0.07239113,\n",
       "        0.58484167, -0.42913875,  0.54898047,  0.44073942, -0.10322923,\n",
       "       -0.45998394,  0.33456743,  0.74387062, -0.28670076,  0.04427388,\n",
       "        0.21493934,  0.24796952, -0.27469826, -0.413515  , -0.17507648,\n",
       "        0.5406909 ,  0.78795028, -0.49340639, -0.06128804,  0.48706046,\n",
       "        0.30533212,  0.03477391, -0.13941252,  0.35497016, -0.36561024,\n",
       "       -0.05119855, -0.88235664, -0.26318648,  0.03155709, -0.19281584,\n",
       "       -0.33837712, -0.10483979, -0.6664511 ,  0.41173646, -0.03831666,\n",
       "       -0.14008573,  0.10492291,  0.58738232, -0.44552159, -0.03561111,\n",
       "       -0.12640187, -0.14375788, -0.17321883,  0.29372266,  0.46062034,\n",
       "        0.21492262,  0.02155704, -0.72208768,  0.27949092, -0.23082575,\n",
       "       -0.38941476, -0.35832214,  0.29052615,  0.30785295, -0.79058939,\n",
       "        0.24313812, -0.01575459, -0.28533641, -0.3400808 ,  0.13497189,\n",
       "        0.11189216, -0.29676229,  0.01015269, -0.03206911, -0.50989974,\n",
       "        0.39737439,  0.38752809, -0.08438967, -0.21841733, -0.11086047,\n",
       "        0.19322433, -0.18236355, -0.05971505, -0.38965163,  0.44199511,\n",
       "        0.23245922, -0.48781955, -0.11555149, -0.24685013, -0.66929048,\n",
       "        0.3642363 , -0.1114565 , -0.17332661, -0.11019883, -0.19427778,\n",
       "        0.33450198, -0.28085023,  0.34186384,  0.28278553,  0.19806352,\n",
       "       -0.24170506,  0.00320881, -0.02013475, -0.13601895,  0.03682251], dtype=float32)"
      ]
     },
     "execution_count": 33,
     "metadata": {},
     "output_type": "execute_result"
    }
   ],
   "source": [
    "X_train_w2v[0]"
   ]
  },
  {
   "cell_type": "markdown",
   "metadata": {},
   "source": [
    "We can fit and score the machine learning modle just as before:"
   ]
  },
  {
   "cell_type": "code",
   "execution_count": 34,
   "metadata": {},
   "outputs": [
    {
     "data": {
      "text/plain": [
       "0.79249999999999998"
      ]
     },
     "execution_count": 34,
     "metadata": {},
     "output_type": "execute_result"
    }
   ],
   "source": [
    "logit_class = LogisticRegression(random_state=0, penalty='l2', C=1000)\n",
    "logit_model = logit_class.fit(X_train_w2v, y_train)\n",
    "logit_model.score(X_test_w2v, y_test)"
   ]
  },
  {
   "cell_type": "markdown",
   "metadata": {},
   "source": [
    "What about Heuser's model?"
   ]
  },
  {
   "cell_type": "code",
   "execution_count": 35,
   "metadata": {},
   "outputs": [
    {
     "data": {
      "text/plain": [
       "0.77249999999999996"
      ]
     },
     "execution_count": 35,
     "metadata": {},
     "output_type": "execute_result"
    }
   ],
   "source": [
    "X_train_w2v = [w2v_featurize(d, ecco_model) for d in X_train]\n",
    "X_test_w2v = [w2v_featurize(d, ecco_model) for d in X_test]\n",
    "logit_class = LogisticRegression(random_state=0, penalty='l2', C=1000)\n",
    "logit_model = logit_class.fit(X_train_w2v, y_train)\n",
    "logit_model.score(X_test_w2v, y_test)"
   ]
  },
  {
   "cell_type": "markdown",
   "metadata": {},
   "source": [
    "Cool! But wait, what if we wanted to know *why* the model was making decisions. If we ask for the most postive coefficients:"
   ]
  },
  {
   "cell_type": "code",
   "execution_count": 36,
   "metadata": {},
   "outputs": [
    {
     "data": {
      "text/plain": [
       "array([77, 67, 88, 81, 15, 47, 57, 36, 90, 70])"
      ]
     },
     "execution_count": 36,
     "metadata": {},
     "output_type": "execute_result"
    }
   ],
   "source": [
    "np.argsort(logit_model.coef_[0])[-10:]"
   ]
  },
  {
   "cell_type": "markdown",
   "metadata": {},
   "source": [
    "And the negative:"
   ]
  },
  {
   "cell_type": "code",
   "execution_count": 37,
   "metadata": {},
   "outputs": [
    {
     "data": {
      "text/plain": [
       "array([97, 96, 49, 87,  0, 52, 84, 42, 43,  1])"
      ]
     },
     "execution_count": 37,
     "metadata": {},
     "output_type": "execute_result"
    }
   ],
   "source": [
    "np.argsort(logit_model.coef_[0])[:10]"
   ]
  },
  {
   "cell_type": "markdown",
   "metadata": {},
   "source": [
    "These are the *indices* for the important features. ***But what are these features now?***\n",
    "\n",
    "---\n",
    "\n",
    "Note that using our novels w2v model was not as accurate as a BoW tfidf method. That should be expected given movie review language is likely ***VERY*** different from our novel corpus. And our novel corpus likely didn't even have entries for a lot of the words used in our movie reviews corpus.\n",
    "\n",
    "For modern English, most people look for Stanford's [GloVe](https://nlp.stanford.edu/projects/glove/) model. This was trained on 6 billion tokens from Wikipedia and Gigaword! Quite a step up from 150 novels. Even the smallest model is a bit large to be working with on our cloud server, but using this model and the code below, you can see it's power:"
   ]
  },
  {
   "cell_type": "markdown",
   "metadata": {},
   "source": [
    "```python\n",
    ">>> os.system('python -m gensim.scripts.glove2word2vec -i glove.6B.100d.txt -o glove.6B.100d.w2v.txt')\n",
    ">>> glove = gensim.models.KeyedVectors.load_word2vec_format('glove.6B.100d.w2v.txt')\n",
    "\n",
    ">>> X_train_glove = [w2v_featurize(d, glove) for d in X_train]\n",
    ">>> X_test_glove = [w2v_featurize(d, glove) for d in X_test]\n",
    "\n",
    ">>> logit_class = LogisticRegression(random_state=0, penalty='l2', C=1000)\n",
    ">>> logit_model = logit_class.fit(X_train_glove, y_train)\n",
    ">>> logit_model.score(X_test_glove, y_test)\n",
    "\n",
    ".8125\n",
    "```"
   ]
  },
  {
   "cell_type": "markdown",
   "metadata": {},
   "source": [
    "While this is not as accurate as our BoW *tfidf* method, there have been several applications and transformations of word embeddings that have proven to be more accurate than a BoW *tfidf* on general modern text corpora. And keep in mind, one of the most interesting parts of this is that it only uses 100 dimensions, i.e., we can get ~81% accuracy by reducing a movie review to only 100 different features (our BoW model had over 39000!)."
   ]
  },
  {
   "cell_type": "code",
   "execution_count": 38,
   "metadata": {},
   "outputs": [
    {
     "data": {
      "text/plain": [
       "<1600x39659 sparse matrix of type '<class 'numpy.float64'>'\n",
       "\twith 536995 stored elements in Compressed Sparse Row format>"
      ]
     },
     "execution_count": 38,
     "metadata": {},
     "output_type": "execute_result"
    }
   ],
   "source": [
    "X_train_transformed"
   ]
  },
  {
   "cell_type": "code",
   "execution_count": 39,
   "metadata": {},
   "outputs": [
    {
     "name": "stdout",
     "output_type": "stream",
     "text": [
      "Collecting textblob\n",
      "  Downloading textblob-0.13.1-py2.py3-none-any.whl (631kB)\n",
      "\u001b[K    100% |████████████████████████████████| 634kB 10.3MB/s a 0:00:011\n",
      "\u001b[?25hRequirement already satisfied: nltk>=3.1 in /srv/app/venv/lib/python3.6/site-packages (from textblob)\n",
      "Requirement already satisfied: six in /srv/app/venv/lib/python3.6/site-packages (from nltk>=3.1->textblob)\n",
      "Installing collected packages: textblob\n",
      "Successfully installed textblob-0.13.1\n"
     ]
    }
   ],
   "source": [
    "!pip install --no-cache-dir textblob"
   ]
  },
  {
   "cell_type": "code",
   "execution_count": 40,
   "metadata": {},
   "outputs": [],
   "source": [
    "from textblob import TextBlob"
   ]
  },
  {
   "cell_type": "code",
   "execution_count": 41,
   "metadata": {},
   "outputs": [],
   "source": [
    "my_blob = '''this movie sucked so much. i hate it when stupid people get the starring role in films like this.\n",
    "This film was awesome. The cinematography was impeccable.'''"
   ]
  },
  {
   "cell_type": "code",
   "execution_count": 42,
   "metadata": {},
   "outputs": [],
   "source": [
    "blob_object = TextBlob(my_blob)"
   ]
  },
  {
   "cell_type": "code",
   "execution_count": 43,
   "metadata": {},
   "outputs": [
    {
     "data": {
      "text/plain": [
       "[Sentence(\"this movie sucked so much.\"),\n",
       " Sentence(\"i hate it when stupid people get the starring role in films like this.\"),\n",
       " Sentence(\"This film was awesome.\"),\n",
       " Sentence(\"The cinematography was impeccable.\")]"
      ]
     },
     "execution_count": 43,
     "metadata": {},
     "output_type": "execute_result"
    }
   ],
   "source": [
    "[s for s in blob_object.sentences]"
   ]
  },
  {
   "cell_type": "code",
   "execution_count": 44,
   "metadata": {},
   "outputs": [
    {
     "name": "stdout",
     "output_type": "stream",
     "text": [
      "this movie sucked so much.\n",
      "0.2\n",
      "i hate it when stupid people get the starring role in films like this.\n",
      "-0.8\n",
      "This film was awesome.\n",
      "1.0\n",
      "The cinematography was impeccable.\n",
      "0.75\n"
     ]
    }
   ],
   "source": [
    "for s in blob_object.sentences:\n",
    "    print(s)\n",
    "    print(s.sentiment.polarity)"
   ]
  },
  {
   "cell_type": "code",
   "execution_count": 45,
   "metadata": {},
   "outputs": [
    {
     "name": "stdout",
     "output_type": "stream",
     "text": [
      "Overall sentiment: 0\n"
     ]
    }
   ],
   "source": [
    "sent_dict = {'sucked': -1,\n",
    "            'awesome.': 1,\n",
    "            'impeccable.': 1,\n",
    "            'stupid': -1}\n",
    "\n",
    "sent = 0\n",
    "for w in my_blob.split():\n",
    "    try:\n",
    "        sent += sent_dict[w]\n",
    "    except:\n",
    "        pass\n",
    "print('Overall sentiment:', sent)"
   ]
  },
  {
   "cell_type": "code",
   "execution_count": null,
   "metadata": {},
   "outputs": [],
   "source": []
  }
 ],
 "metadata": {
  "anaconda-cloud": {},
  "kernelspec": {
   "display_name": "Python 3",
   "language": "python",
   "name": "python3"
  },
  "language_info": {
   "codemirror_mode": {
    "name": "ipython",
    "version": 3
   },
   "file_extension": ".py",
   "mimetype": "text/x-python",
   "name": "python",
   "nbconvert_exporter": "python",
   "pygments_lexer": "ipython3",
   "version": "3.6.1"
  }
 },
 "nbformat": 4,
 "nbformat_minor": 1
}
